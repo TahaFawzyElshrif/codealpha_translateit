{
 "cells": [
  {
   "cell_type": "markdown",
   "metadata": {
    "id": "MRmmLzyua7Gu"
   },
   "source": [
    "## Translator\n"
   ]
  },
  {
   "cell_type": "code",
   "execution_count": 6,
   "metadata": {
    "colab": {
     "base_uri": "https://localhost:8080/"
    },
    "executionInfo": {
     "elapsed": 596,
     "status": "ok",
     "timestamp": 1753545604367,
     "user": {
      "displayName": "yahoo egypt",
      "userId": "13038863756302173317"
     },
     "user_tz": -180
    },
    "id": "ZDuQOt-TXox0",
    "outputId": "dab2c242-884d-4524-9cd7-8b405b5c20a6"
   },
   "outputs": [
    {
     "name": "stdout",
     "output_type": "stream",
     "text": [
      "مرحبًا، كيف حالك؟\n"
     ]
    }
   ],
   "source": [
    "import requests\n",
    "import uuid\n",
    "\n",
    "\n",
    "path = \"/translate\"\n",
    "constructed_url = endpoint + path\n",
    "\n",
    "params = {\n",
    "    \"api-version\": \"3.0\",\n",
    "    \"to\": [\"ar\"]  # Change \"fr\" to any target language (e.g., \"ar\", \"es\", etc.)\n",
    "}\n",
    "\n",
    "headers = {\n",
    "    \"Ocp-Apim-Subscription-Key\": subscription_key,\n",
    "    \"Ocp-Apim-Subscription-Region\": region,\n",
    "    \"Content-type\": \"application/json\",\n",
    "    \"X-ClientTraceId\": str(uuid.uuid4())\n",
    "}\n",
    "\n",
    "body = [{\n",
    "    \"text\": \"Hello, how are you?\"\n",
    "}]\n",
    "\n",
    "response = requests.post(constructed_url, params=params, headers=headers, json=body)\n",
    "result = response.json()\n",
    "\n",
    "# Print translated text\n",
    "print(result[0]['translations'][0]['text'])\n"
   ]
  },
  {
   "cell_type": "markdown",
   "metadata": {
    "id": "ILA7ZA_pdc6u"
   },
   "source": []
  }
 ],
 "metadata": {
  "colab": {
   "collapsed_sections": [
    "MRmmLzyua7Gu"
   ],
   "provenance": []
  },
  "kernelspec": {
   "display_name": "Python 3",
   "name": "python3"
  },
  "language_info": {
   "name": "python"
  }
 },
 "nbformat": 4,
 "nbformat_minor": 0
}
